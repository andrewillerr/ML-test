{
 "cells": [
  {
   "cell_type": "code",
   "execution_count": 25,
   "metadata": {},
   "outputs": [
    {
     "name": "stdout",
     "output_type": "stream",
     "text": [
      "   customer_id transaction_type  transaction_amount  loan_amount  \\\n",
      "0            1       withdrawal                4011        20928   \n",
      "1            2       withdrawal                5730        26222   \n",
      "2            3          deposit                8637        32019   \n",
      "3            4          deposit                8757        24040   \n",
      "4            5       withdrawal                4392        15798   \n",
      "\n",
      "   loan_approved  \n",
      "0              1  \n",
      "1              1  \n",
      "2              1  \n",
      "3              0  \n",
      "4              0  \n"
     ]
    }
   ],
   "source": [
    "import pandas as pd\n",
    "\n",
    "# โหลดข้อมูล\n",
    "data = pd.read_csv('bank_data.csv')\n",
    "\n",
    "# แสดงข้อมูลเบื้องต้น\n",
    "print(data.head())\n"
   ]
  },
  {
   "cell_type": "code",
   "execution_count": null,
   "metadata": {},
   "outputs": [],
   "source": [
    "# ตรวจสอบข้อมูลเบื้องต้น\n",
    "print(data.info())\n",
    "print(data.describe())\n"
   ]
  },
  {
   "cell_type": "code",
   "execution_count": null,
   "metadata": {},
   "outputs": [],
   "source": [
    "# ลบแถวที่มีค่า NaN\n",
    "data.dropna(inplace=True)\n",
    "\n",
    "# เติมค่าที่หายไปด้วยค่าเฉลี่ย\n",
    "data.fillna(data.mean(), inplace=True)\n"
   ]
  },
  {
   "cell_type": "code",
   "execution_count": null,
   "metadata": {},
   "outputs": [],
   "source": [
    "import matplotlib.pyplot as plt\n",
    "import seaborn as sns\n",
    "\n",
    "# การสร้างกราฟการฝาก-ถอน\n",
    "plt.figure(figsize=(10, 5))\n",
    "sns.countplot(x='transaction_type', data=data)  # สมมุติว่ามีคอลัมน์ 'transaction_type'\n",
    "plt.title('จำนวนการฝาก-ถอน')\n",
    "plt.show()\n",
    "\n",
    "# การวิเคราะห์การกู้\n",
    "plt.figure(figsize=(10, 5))\n",
    "sns.boxplot(x='loan_amount', data=data)  # สมมุติว่ามีคอลัมน์ 'loan_amount'\n",
    "plt.title('การกระจายของจำนวนเงินกู้')\n",
    "plt.show()\n"
   ]
  },
  {
   "cell_type": "code",
   "execution_count": 23,
   "metadata": {},
   "outputs": [
    {
     "name": "stdout",
     "output_type": "stream",
     "text": [
      "Accuracy: 1.00\n"
     ]
    }
   ],
   "source": [
    "import pandas as pd\n",
    "from sklearn.model_selection import train_test_split\n",
    "from sklearn.linear_model import LogisticRegression\n",
    "from sklearn.metrics import accuracy_score\n",
    "\n",
    "# นำเข้าข้อมูล Iris\n",
    "data = pd.read_csv('https://archive.ics.uci.edu/ml/machine-learning-databases/iris/iris.data',\n",
    "                   header=None, names=['sepal_length', 'sepal_width', 'petal_length', 'petal_width', 'class'])\n",
    "\n",
    "# แบ่งข้อมูล\n",
    "X = data[['sepal_length', 'sepal_width', 'petal_length', 'petal_width']]\n",
    "y = data['class']\n",
    "X_train, X_test, y_train, y_test = train_test_split(X, y, test_size=0.2, random_state=42)\n",
    "\n",
    "# สร้างและฝึก Logistic Regression Model\n",
    "model = LogisticRegression(max_iter=200)\n",
    "model.fit(X_train, y_train)\n",
    "\n",
    "# ทำนายผลด้วยชุดทดสอบ\n",
    "predictions = model.predict(X_test)\n",
    "\n",
    "# ตรวจสอบความแม่นยำ\n",
    "accuracy = accuracy_score(y_test, predictions)\n",
    "print(f'Accuracy: {accuracy:.2f}')\n"
   ]
  }
 ],
 "metadata": {
  "kernelspec": {
   "display_name": "Python 3",
   "language": "python",
   "name": "python3"
  },
  "language_info": {
   "codemirror_mode": {
    "name": "ipython",
    "version": 3
   },
   "file_extension": ".py",
   "mimetype": "text/x-python",
   "name": "python",
   "nbconvert_exporter": "python",
   "pygments_lexer": "ipython3",
   "version": "3.12.6"
  }
 },
 "nbformat": 4,
 "nbformat_minor": 2
}
